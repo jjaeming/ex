{
 "cells": [
  {
   "cell_type": "markdown",
   "metadata": {
    "id": "Dg6LzOwDAfom"
   },
   "source": [
    "# 붓꽃 데이터 불러오기"
   ]
  },
  {
   "cell_type": "code",
   "execution_count": 1,
   "metadata": {
    "id": "k5Xv2jjPaH9s"
   },
   "outputs": [],
   "source": [
    "import numpy as np\n",
    "import pandas as pd\n",
    "import matplotlib.pyplot as plt\n",
    "\n",
    "# 붓꽃 데이터 불러오기\n",
    "df = pd.read_csv('iris.data', header=None)\n",
    "\n",
    "X = df.iloc[0:100, [0, 2]].values         # 앞 100개 샘플의 컬럼0(꽃받침 길이)과 컬럼2(꽃잎 길이) 값을 가지고 옴\n",
    "\n",
    "y = df.iloc[0:100, 4].values              # 앞 100개 샘플의 정답값(꽃종류) 을 가지고 옴\n",
    "y = np.where(y == 'Iris-setosa', 0, 1)   # 값이 Iris-setosa이면 0, 아니면 1로 표기함\n",
    "y = y.reshape(100,1)\n",
    "X_std = np.copy(X)\n",
    "X_std[:, 0] = (X[:, 0] - X[:, 0].mean()) / X[:, 0].std()\n",
    "X_std[:, 1] = (X[:, 1] - X[:, 1].mean()) / X[:, 1].std()"
   ]
  },
  {
   "cell_type": "markdown",
   "metadata": {
    "id": "niIDFeyLLvI0"
   },
   "source": [
    "# 결정 경계 도시 함수"
   ]
  },
  {
   "cell_type": "code",
   "execution_count": 2,
   "metadata": {
    "id": "QJO1Lz1tAfpB"
   },
   "outputs": [],
   "source": [
    "from matplotlib.colors import ListedColormap\n",
    "import matplotlib.pyplot as plt\n",
    "\n",
    "def plot_decision_regions(X, y, classifier, test_idx=None, resolution=0.02):\n",
    "\n",
    "    # 마커와 컬러맵을 설정합니다.\n",
    "    markers = ('s', 'x', 'o', '^', 'v')\n",
    "    colors = ('red', 'blue', 'lightgreen', 'gray', 'cyan','black')\n",
    "    cmap = ListedColormap(colors[:len(np.unique(y))])\n",
    "\n",
    "    # 결정 경계를 그립니다.\n",
    "    x1_min, x1_max = X[:, 0].min() - 1, X[:, 0].max() + 1\n",
    "    x2_min, x2_max = X[:, 1].min() - 1, X[:, 1].max() + 1\n",
    "    xx1, xx2 = np.meshgrid(np.arange(x1_min, x1_max, resolution),\n",
    "                           np.arange(x2_min, x2_max, resolution))\n",
    "    Z,_ = classifier.predict(np.array([xx1.ravel(), xx2.ravel()]).T) \n",
    "    Z = Z.reshape(xx1.shape)\n",
    "    plt.contourf(xx1, xx2, Z, alpha=0.3, cmap=cmap)\n",
    "    plt.xlim(xx1.min(), xx1.max())\n",
    "    plt.ylim(xx2.min(), xx2.max())\n",
    "    \n",
    "    y = y.reshape(len(y))\n",
    "    for idx, cl in enumerate(np.unique(y)):\n",
    "        plt.scatter(x=X[y == cl, 0], \n",
    "                    y=X[y == cl, 1],\n",
    "                    alpha=0.8, \n",
    "                    c=colors[idx],\n",
    "                    marker=markers[idx], \n",
    "                    label=cl)\n",
    "\n",
    "    # 테스트 샘플을 부각하여 그립니다.\n",
    "    if test_idx:\n",
    "        X_test, y_test = X[test_idx, :], y[test_idx]\n",
    "\n",
    "        plt.scatter(X_test[:, 0],\n",
    "                    X_test[:, 1],\n",
    "                    c='',\n",
    "                    edgecolor='black',\n",
    "                    alpha=1.0,\n",
    "                    linewidth=1,\n",
    "                    marker='o',\n",
    "                    s=100, \n",
    "                    label='test set')"
   ]
  },
  {
   "cell_type": "markdown",
   "metadata": {
    "id": "Iq5-rkjOLh11"
   },
   "source": [
    "# 로지스틱 회귀 모델"
   ]
  },
  {
   "cell_type": "code",
   "execution_count": 3,
   "metadata": {
    "id": "KT0OFE5zAfpJ"
   },
   "outputs": [],
   "source": [
    "import numpy as np\n",
    "\n",
    "class Classifier:\n",
    "    def __init__(self):\n",
    "        self.theta = np.random.rand(2,1)  \n",
    "        self.b = np.random.rand(1)\n",
    "\n",
    "    def sigmoid(self, z):\n",
    "        return 1 / (1 + np.exp(-z))\n",
    "\n",
    "    def loss_func(self, x, y):\n",
    "        delta = 1e-7  # log 무한대 발산 방지\n",
    "        z = np.dot(x, self.theta) + self.b\n",
    "        h = self.sigmoid(z)\n",
    "\n",
    "        # cross-entropy\n",
    "        return -np.sum(y * np.log(h + delta) + (1 - y) * np.log((1 - h) + delta))\n",
    "\n",
    "    def numerical_derivative(self, f, x):\n",
    "        delta_x = 1e-4  # 0.0001\n",
    "        grad = np.zeros_like(x)\n",
    "\n",
    "        it = np.nditer(x, flags=['multi_index'], op_flags=['readwrite'])\n",
    "\n",
    "        while not it.finished:\n",
    "            idx = it.multi_index\n",
    "            tmp_val = x[idx]\n",
    "            x[idx] = float(tmp_val) + delta_x\n",
    "            fx1 = f(x)  # f(x+delta_x)\n",
    "\n",
    "            x[idx] = tmp_val - delta_x\n",
    "            fx2 = f(x)  # f(x-delta_x)\n",
    "            grad[idx] = (fx1 - fx2) / (2 * delta_x)\n",
    "\n",
    "            x[idx] = tmp_val\n",
    "            it.iternext()\n",
    "\n",
    "        return grad\n",
    "\n",
    "    def error_val(self, x, t):\n",
    "        delta = 1e-7  # log 무한대 발산 방지\n",
    "        z = np.dot(x, self.theta) + self.b\n",
    "        y = self.sigmoid(z)\n",
    "\n",
    "        # cross-entropy\n",
    "        return -np.sum(t * np.log(y + delta) + (1 - t) * np.log((1 - y) + delta))\n",
    "\n",
    "    def train(self, x, y, learning_rate=0.0001, epochs=1000):\n",
    "\n",
    "        for i in range(epochs):\n",
    "            # Calculate gradient\n",
    "            gradient_theta = self.numerical_derivative(lambda th: self.loss_func(x, y), self.theta)\n",
    "            gradient_b = self.numerical_derivative(lambda b: self.loss_func(x, y), np.array([self.b]))\n",
    "\n",
    "            # Update parameters\n",
    "            self.theta -= learning_rate * gradient_theta\n",
    "            self.b -= learning_rate * gradient_b[0]\n",
    "\n",
    "            # Print the loss every 1000 epochs\n",
    "            if i % 1000 == 0:\n",
    "                loss = self.loss_func(x, y)\n",
    "                error = self.error_val(x,y)\n",
    "                print(f\"Epoch {i}, Loss: {loss}, Error {error}\")\n",
    "\n",
    "    def predict(self, x):\n",
    "        z = np.dot(x, self.theta) + self.b\n",
    "        y = self.sigmoid(z)\n",
    "\n",
    "        if y.all() >= 0.5:\n",
    "            result = 1  # True\n",
    "        else:\n",
    "            result = 0  # False\n",
    "\n",
    "        return y, result\n",
    "\n",
    "# Example usage:\n",
    "# classifier = Classifier()\n",
    "# classifier.train(training_data, training_labels)\n",
    "# prediction = classifier.predict(test_data)\n"
   ]
  },
  {
   "cell_type": "markdown",
   "metadata": {
    "id": "47WQWaejLpXx"
   },
   "source": [
    "# 로지스틱 회귀 모델 학습"
   ]
  },
  {
   "cell_type": "code",
   "execution_count": 4,
   "metadata": {
    "id": "o5rH2zSjvW6t",
    "scrolled": false
   },
   "outputs": [
    {
     "name": "stdout",
     "output_type": "stream",
     "text": [
      "Epoch 0, Loss: 43.446014197121116, Error 43.446014197121116\n",
      "Epoch 1000, Loss: 12.087210130289124, Error 12.087210130289124\n",
      "Epoch 2000, Loss: 7.980325060927486, Error 7.980325060927486\n",
      "Epoch 3000, Loss: 6.225449413381858, Error 6.225449413381858\n",
      "Epoch 4000, Loss: 5.205356027309311, Error 5.205356027309311\n",
      "Epoch 5000, Loss: 4.519179371501988, Error 4.519179371501988\n",
      "Epoch 6000, Loss: 4.0170561127598905, Error 4.0170561127598905\n",
      "Epoch 7000, Loss: 3.629177340082068, Error 3.629177340082068\n",
      "Epoch 8000, Loss: 3.31812594541249, Error 3.31812594541249\n",
      "Epoch 9000, Loss: 3.0617826997706525, Error 3.0617826997706525\n",
      "Epoch 10000, Loss: 2.8460927455746106, Error 2.8460927455746106\n"
     ]
    }
   ],
   "source": [
    "#학습하는 코드를 작성하고 밑에 코드를 실행했을 때 아래와 같은 그래프가 나와야함\n",
    "\n",
    "classifier = Classifier()\n",
    "\n",
    "classifier.train(X_std,y,epochs =10001)"
   ]
  },
  {
   "cell_type": "code",
   "execution_count": 5,
   "metadata": {
    "colab": {
     "base_uri": "https://localhost:8080/",
     "height": 297
    },
    "executionInfo": {
     "elapsed": 622,
     "status": "ok",
     "timestamp": 1667296323783,
     "user": {
      "displayName": "박관우 (16101478_관사)",
      "userId": "14832621603061077862"
     },
     "user_tz": -540
    },
    "id": "XL9T0--9AfpL",
    "outputId": "5af1cf84-5f38-4c14-90e7-d36760c3e3fd"
   },
   "outputs": [
    {
     "data": {
      "image/png": "[encoded data removed]",
      "text/plain": [
       "<Figure size 640x480 with 1 Axes>"
      ]
     },
     "metadata": {},
     "output_type": "display_data"
    }
   ],
   "source": [
    "#classifier에 위에서 자신이 작성한 모델 이름을 넣으면 작동\n",
    "plot_decision_regions(X_std, y, classifier=classifier)\n",
    "\n",
    "plt.xlabel('petal length [standardized]')\n",
    "plt.ylabel('petal width [standardized]')\n",
    "plt.legend(loc='upper left')\n",
    "\n",
    "plt.tight_layout()\n",
    "plt.show()"
   ]
  },
  {
   "cell_type": "code",
   "execution_count": null,
   "metadata": {},
   "outputs": [],
   "source": []
  }
 ],
 "metadata": {
  "colab": {
   "collapsed_sections": [],
   "provenance": []
  },
  "kernelspec": {
   "display_name": "Python 3 (ipykernel)",
   "language": "python",
   "name": "python3"
  },
  "language_info": {
   "codemirror_mode": {
    "name": "ipython",
    "version": 3
   },
   "file_extension": ".py",
   "mimetype": "text/x-python",
   "name": "python",
   "nbconvert_exporter": "python",
   "pygments_lexer": "ipython3",
   "version": "3.9.18"
  }
 },
 "nbformat": 4,
 "nbformat_minor": 1
}
