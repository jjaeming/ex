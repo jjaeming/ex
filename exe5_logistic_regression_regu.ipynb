{
 "cells": [
  {
   "cell_type": "code",
   "execution_count": 2,
   "metadata": {
    "colab": {
     "base_uri": "https://localhost:8080/"
    },
    "executionInfo": {
     "elapsed": 18516,
     "status": "ok",
     "timestamp": 1667295183570,
     "user": {
      "displayName": "박관우 (16101478_관사)",
      "userId": "14832621603061077862"
     },
     "user_tz": -540
    },
    "id": "7oHWrjlMX7M2",
    "outputId": "058f48b8-d460-48c1-bcf6-8e37143ed2af"
   },
   "outputs": [],
   "source": [
    "import numpy as np\n",
    "import matplotlib.pyplot as plt\n",
    "import pandas as pd\n",
    "from scipy import optimize\n",
    "#from google.colab import drive\n",
    "#drive.mount('/content/drive')"
   ]
  },
  {
   "cell_type": "markdown",
   "metadata": {
    "id": "1pnEiM-6X7M3"
   },
   "source": [
    "### 2 Regularized Logistic Regression"
   ]
  },
  {
   "cell_type": "markdown",
   "metadata": {
    "id": "J4V8BU7OX7M7"
   },
   "source": [
    "#### 2.1 Visualizing the data"
   ]
  },
  {
   "cell_type": "code",
   "execution_count": 3,
   "metadata": {
    "executionInfo": {
     "elapsed": 4,
     "status": "ok",
     "timestamp": 1667295183570,
     "user": {
      "displayName": "박관우 (16101478_관사)",
      "userId": "14832621603061077862"
     },
     "user_tz": -540
    },
    "id": "D_xB3EE7X7M7"
   },
   "outputs": [],
   "source": [
    "#datafile = '/content/drive/MyDrive/머신러닝/실습2/ex2data2.txt'\n",
    "datafile = 'ex2data2.txt'\n",
    "#!head $datafile\n",
    "cols = np.loadtxt(datafile,delimiter=',',usecols=(0,1,2),unpack=True) #Read in comma separated data\n",
    "##Form the usual \"X\" matrix and \"y\" vector\n",
    "X = np.transpose(np.array(cols[:-1]))\n",
    "y = np.transpose(np.array(cols[-1:]))\n",
    "m = y.size # number of training examples\n",
    "##Insert the usual column of 1's into the \"X\" matrix\n",
    "X = np.insert(X,0,1,axis=1)"
   ]
  },
  {
   "cell_type": "code",
   "execution_count": 4,
   "metadata": {
    "executionInfo": {
     "elapsed": 3,
     "status": "ok",
     "timestamp": 1667295183570,
     "user": {
      "displayName": "박관우 (16101478_관사)",
      "userId": "14832621603061077862"
     },
     "user_tz": -540
    },
    "id": "3eSmy6LpX7M7"
   },
   "outputs": [],
   "source": [
    "#Divide the sample into two: ones with positive classification, one with null classification\n",
    "pos = np.array([X[i] for i in range(X.shape[0]) if y[i] == 1])\n",
    "neg = np.array([X[i] for i in range(X.shape[0]) if y[i] == 0])\n",
    "#Check to make sure I included all entries\n",
    "#print \"Included everything? \",(len(pos)+len(neg) == X.shape[0])"
   ]
  },
  {
   "cell_type": "code",
   "execution_count": 5,
   "metadata": {
    "colab": {
     "base_uri": "https://localhost:8080/",
     "height": 265
    },
    "executionInfo": {
     "elapsed": 4,
     "status": "ok",
     "timestamp": 1667295183571,
     "user": {
      "displayName": "박관우 (16101478_관사)",
      "userId": "14832621603061077862"
     },
     "user_tz": -540
    },
    "id": "-gFGOWEPX7M8",
    "outputId": "31a68b57-2aba-4d02-e1c7-0bb42a00c5c6"
   },
   "outputs": [
    {
     "data": {
      "image/png": "[encoded data removed]",
      "text/plain": [
       "<Figure size 640x480 with 1 Axes>"
      ]
     },
     "metadata": {},
     "output_type": "display_data"
    }
   ],
   "source": [
    "def plotData():\n",
    "    plt.plot(pos[:,1],pos[:,2],'k+',label='y=1')\n",
    "    plt.plot(neg[:,1],neg[:,2],'yo',label='y=0')\n",
    "    plt.legend()\n",
    "\n",
    "\n",
    "#Draw it square to emphasize circular features\n",
    "plotData()"
   ]
  },
  {
   "cell_type": "markdown",
   "metadata": {
    "id": "zYoAWbtUX7M8"
   },
   "source": [
    "#### 2.2 Feature mapping"
   ]
  },
  {
   "cell_type": "code",
   "execution_count": 6,
   "metadata": {
    "executionInfo": {
     "elapsed": 564,
     "status": "ok",
     "timestamp": 1667295184131,
     "user": {
      "displayName": "박관우 (16101478_관사)",
      "userId": "14832621603061077862"
     },
     "user_tz": -540
    },
    "id": "D7CYRaGBX7M8"
   },
   "outputs": [],
   "source": [
    "\n",
    "def mapFeature( x1col, x2col ):\n",
    "    \"\"\" \n",
    "    Function that takes in a column of n- x1's, a column of n- x2s, and builds\n",
    "    a n- x 28-dim matrix of featuers as described in the homework assignment\n",
    "    \"\"\"\n",
    "    degrees = 6\n",
    "    out = np.ones( (x1col.shape[0], 1) )\n",
    "\n",
    "    for i in range(1, degrees+1):\n",
    "        for j in range(0, i+1):\n",
    "            term1 = x1col ** (i-j)\n",
    "            term2 = x2col ** (j)\n",
    "            term  = (term1 * term2).reshape( term1.shape[0], 1 ) \n",
    "            out   = np.hstack(( out, term ))\n",
    "    return out #[1 ,x1, x2, x1^2, x1x2, x2^2, x1^3, x1^2x2, x1x2^2,x2^3,..., x2^6 ]\n",
    "\n",
    "from sklearn.preprocessing import PolynomialFeatures\n",
    "# specifying the degree of the polynomial\n",
    "poly = PolynomialFeatures(degree=6, include_bias=True)"
   ]
  },
  {
   "cell_type": "code",
   "execution_count": 7,
   "metadata": {
    "executionInfo": {
     "elapsed": 4,
     "status": "ok",
     "timestamp": 1667295184132,
     "user": {
      "displayName": "박관우 (16101478_관사)",
      "userId": "14832621603061077862"
     },
     "user_tz": -540
    },
    "id": "l-3cGvzOX7M9"
   },
   "outputs": [],
   "source": [
    "#Create feature-mapped X matrix\n",
    "mappedX = mapFeature(X[:,1],X[:,2])"
   ]
  },
  {
   "cell_type": "code",
   "execution_count": 8,
   "metadata": {
    "colab": {
     "base_uri": "https://localhost:8080/"
    },
    "executionInfo": {
     "elapsed": 3,
     "status": "ok",
     "timestamp": 1667295184132,
     "user": {
      "displayName": "박관우 (16101478_관사)",
      "userId": "14832621603061077862"
     },
     "user_tz": -540
    },
    "id": "3w2Hg_rAX7M9",
    "outputId": "72610718-6bd7-4ecb-f42e-224015cedf59",
    "scrolled": true
   },
   "outputs": [
    {
     "name": "stdout",
     "output_type": "stream",
     "text": [
      "(118, 28)\n"
     ]
    }
   ],
   "source": [
    "print(np.shape(mappedX))"
   ]
  },
  {
   "cell_type": "markdown",
   "metadata": {
    "id": "iXT5qbD1X7M9"
   },
   "source": [
    "#### 2.3 Cost function and gradient"
   ]
  },
  {
   "cell_type": "code",
   "execution_count": 9,
   "metadata": {
    "executionInfo": {
     "elapsed": 3,
     "status": "ok",
     "timestamp": 1667295184132,
     "user": {
      "displayName": "박관우 (16101478_관사)",
      "userId": "14832621603061077862"
     },
     "user_tz": -540
    },
    "id": "GtLSDU2pX7M9"
   },
   "outputs": [],
   "source": [
    "def sigmoid(x):\n",
    "    a = np.exp(-x)\n",
    "    return 1.0 / (1.0 + a)"
   ]
  },
  {
   "cell_type": "code",
   "execution_count": 10,
   "metadata": {
    "executionInfo": {
     "elapsed": 2,
     "status": "ok",
     "timestamp": 1667295184132,
     "user": {
      "displayName": "박관우 (16101478_관사)",
      "userId": "14832621603061077862"
     },
     "user_tz": -540
    },
    "id": "5CGPL55hX7M9"
   },
   "outputs": [],
   "source": [
    "def computeCost(mytheta,myX,myy,mylambda = 0.): \n",
    "    \"\"\"\n",
    "    theta_start is an n- dimensional vector of initial theta guess\n",
    "    X is matrix with n- columns and m- rows\n",
    "    y is a matrix with m- rows and 1 column\n",
    "    Note this includes regularization, if you set mylambda to nonzero\n",
    "    For the first part of the homework, the default 0. is used for mylambda\n",
    "    \"\"\"\n",
    "    #note to self: *.shape is (rows, columns)\n",
    "    term1 = np.dot(-np.array(myy).T,np.log(sigmoid(np.dot(myX,mytheta))))\n",
    "    term2 = np.dot((1-np.array(myy)).T,np.log(1-sigmoid(np.dot(myX,mytheta))))\n",
    "    regterm = (mylambda/2) * np.sum(np.dot(mytheta[1:].T,mytheta[1:])) #Skip theta0\n",
    "    return float((1./m) * ( np.sum(term1 - term2) + regterm ))"
   ]
  },
  {
   "cell_type": "code",
   "execution_count": 11,
   "metadata": {
    "colab": {
     "base_uri": "https://localhost:8080/"
    },
    "executionInfo": {
     "elapsed": 350,
     "status": "ok",
     "timestamp": 1667295184480,
     "user": {
      "displayName": "박관우 (16101478_관사)",
      "userId": "14832621603061077862"
     },
     "user_tz": -540
    },
    "id": "KH0b8AbMX7M-",
    "outputId": "1a0e7baf-8819-488f-ce60-8efb2a06f160"
   },
   "outputs": [
    {
     "data": {
      "text/plain": [
       "0.6931471805599453"
      ]
     },
     "execution_count": 11,
     "metadata": {},
     "output_type": "execute_result"
    }
   ],
   "source": [
    "#Cost function is the same as the one implemented above, as I included the regularization\n",
    "#toggled off for default function call (lambda = 0)\n",
    "#I do not need separate implementation of the derivative term of the cost function\n",
    "#Because the scipy optimization function I'm using only needs the cost function itself\n",
    "#Let's check that the cost function returns a cost of 0.693 with zeros for initial theta,\n",
    "#and regularized x values\n",
    "initial_theta = np.zeros((mappedX.shape[1],1))\n",
    "computeCost(initial_theta,mappedX,y)"
   ]
  },
  {
   "cell_type": "markdown",
   "metadata": {
    "id": "6THqB_kbX7M-"
   },
   "source": [
    "##### 2.3.1 Learning parameters using fminunc"
   ]
  },
  {
   "cell_type": "code",
   "execution_count": 13,
   "metadata": {
    "colab": {
     "base_uri": "https://localhost:8080/"
    },
    "executionInfo": {
     "elapsed": 3905,
     "status": "ok",
     "timestamp": 1667295188384,
     "user": {
      "displayName": "박관우 (16101478_관사)",
      "userId": "14832621603061077862"
     },
     "user_tz": -540
    },
    "id": "9wbcZRTlX7M-",
    "outputId": "36ff9d6f-1ab8-4ad8-dae4-65ca8ef298e3",
    "scrolled": false
   },
   "outputs": [
    {
     "ename": "ValueError",
     "evalue": "'x0' must only have one dimension.",
     "output_type": "error",
     "traceback": [
      "\u001b[1;31m---------------------------------------------------------------------------\u001b[0m",
      "\u001b[1;31mValueError\u001b[0m                                Traceback (most recent call last)",
      "Cell \u001b[1;32mIn[13], line 8\u001b[0m\n\u001b[0;32m      5\u001b[0m     result \u001b[38;5;241m=\u001b[39m optimize\u001b[38;5;241m.\u001b[39mminimize(computeCost, mytheta, args\u001b[38;5;241m=\u001b[39m(myX, myy, mylambda),  method\u001b[38;5;241m=\u001b[39m\u001b[38;5;124m'\u001b[39m\u001b[38;5;124mBFGS\u001b[39m\u001b[38;5;124m'\u001b[39m, options\u001b[38;5;241m=\u001b[39m{\u001b[38;5;124m\"\u001b[39m\u001b[38;5;124mmaxiter\u001b[39m\u001b[38;5;124m\"\u001b[39m:\u001b[38;5;241m500\u001b[39m, \u001b[38;5;124m\"\u001b[39m\u001b[38;5;124mdisp\u001b[39m\u001b[38;5;124m\"\u001b[39m:\u001b[38;5;28;01mFalse\u001b[39;00m} )\n\u001b[0;32m      6\u001b[0m     \u001b[38;5;28;01mreturn\u001b[39;00m result\n\u001b[1;32m----> 8\u001b[0m result \u001b[38;5;241m=\u001b[39m optimizeRegularizedTheta(initial_theta,mappedX,y)\n\u001b[0;32m      9\u001b[0m theta\u001b[38;5;241m=\u001b[39mnp\u001b[38;5;241m.\u001b[39marray([result\u001b[38;5;241m.\u001b[39mx])\n\u001b[0;32m     10\u001b[0m \u001b[38;5;28mprint\u001b[39m(result)\n",
      "Cell \u001b[1;32mIn[13], line 5\u001b[0m, in \u001b[0;36moptimizeRegularizedTheta\u001b[1;34m(mytheta, myX, myy, mylambda)\u001b[0m\n\u001b[0;32m      4\u001b[0m \u001b[38;5;28;01mdef\u001b[39;00m \u001b[38;5;21moptimizeRegularizedTheta\u001b[39m(mytheta,myX,myy,mylambda\u001b[38;5;241m=\u001b[39m\u001b[38;5;241m0.\u001b[39m):\n\u001b[1;32m----> 5\u001b[0m     result \u001b[38;5;241m=\u001b[39m optimize\u001b[38;5;241m.\u001b[39mminimize(computeCost, mytheta, args\u001b[38;5;241m=\u001b[39m(myX, myy, mylambda),  method\u001b[38;5;241m=\u001b[39m\u001b[38;5;124m'\u001b[39m\u001b[38;5;124mBFGS\u001b[39m\u001b[38;5;124m'\u001b[39m, options\u001b[38;5;241m=\u001b[39m{\u001b[38;5;124m\"\u001b[39m\u001b[38;5;124mmaxiter\u001b[39m\u001b[38;5;124m\"\u001b[39m:\u001b[38;5;241m500\u001b[39m, \u001b[38;5;124m\"\u001b[39m\u001b[38;5;124mdisp\u001b[39m\u001b[38;5;124m\"\u001b[39m:\u001b[38;5;28;01mFalse\u001b[39;00m} )\n\u001b[0;32m      6\u001b[0m     \u001b[38;5;28;01mreturn\u001b[39;00m result\n",
      "File \u001b[1;32m~\\anaconda3\\Lib\\site-packages\\scipy\\optimize\\_minimize.py:533\u001b[0m, in \u001b[0;36mminimize\u001b[1;34m(fun, x0, args, method, jac, hess, hessp, bounds, constraints, tol, callback, options)\u001b[0m\n\u001b[0;32m    530\u001b[0m x0 \u001b[38;5;241m=\u001b[39m np\u001b[38;5;241m.\u001b[39matleast_1d(np\u001b[38;5;241m.\u001b[39masarray(x0))\n\u001b[0;32m    532\u001b[0m \u001b[38;5;28;01mif\u001b[39;00m x0\u001b[38;5;241m.\u001b[39mndim \u001b[38;5;241m!=\u001b[39m \u001b[38;5;241m1\u001b[39m:\n\u001b[1;32m--> 533\u001b[0m     \u001b[38;5;28;01mraise\u001b[39;00m \u001b[38;5;167;01mValueError\u001b[39;00m(\u001b[38;5;124m\"\u001b[39m\u001b[38;5;124m'\u001b[39m\u001b[38;5;124mx0\u001b[39m\u001b[38;5;124m'\u001b[39m\u001b[38;5;124m must only have one dimension.\u001b[39m\u001b[38;5;124m\"\u001b[39m)\n\u001b[0;32m    535\u001b[0m \u001b[38;5;28;01mif\u001b[39;00m x0\u001b[38;5;241m.\u001b[39mdtype\u001b[38;5;241m.\u001b[39mkind \u001b[38;5;129;01min\u001b[39;00m np\u001b[38;5;241m.\u001b[39mtypecodes[\u001b[38;5;124m\"\u001b[39m\u001b[38;5;124mAllInteger\u001b[39m\u001b[38;5;124m\"\u001b[39m]:\n\u001b[0;32m    536\u001b[0m     x0 \u001b[38;5;241m=\u001b[39m np\u001b[38;5;241m.\u001b[39masarray(x0, dtype\u001b[38;5;241m=\u001b[39m\u001b[38;5;28mfloat\u001b[39m)\n",
      "\u001b[1;31mValueError\u001b[0m: 'x0' must only have one dimension."
     ]
    }
   ],
   "source": [
    "#I noticed that fmin wasn't converging (passing max # of iterations)\n",
    "#so let's use minimize instead\n",
    "\n",
    "def optimizeRegularizedTheta(mytheta,myX,myy,mylambda=0.):\n",
    "    result = optimize.minimize(computeCost, mytheta, args=(myX, myy, mylambda),  method='BFGS', options={\"maxiter\":500, \"disp\":False} )\n",
    "    return result\n",
    "    \n",
    "result = optimizeRegularizedTheta(initial_theta,mappedX,y)\n",
    "theta=np.array([result.x])\n",
    "print(result)"
   ]
  },
  {
   "cell_type": "markdown",
   "metadata": {
    "id": "II7G0suKX7M-"
   },
   "source": [
    "#### 2.4 Plotting the decision boundary"
   ]
  },
  {
   "cell_type": "code",
   "execution_count": 14,
   "metadata": {
    "executionInfo": {
     "elapsed": 3,
     "status": "ok",
     "timestamp": 1667295188385,
     "user": {
      "displayName": "박관우 (16101478_관사)",
      "userId": "14832621603061077862"
     },
     "user_tz": -540
    },
    "id": "95z6o29FX7M-"
   },
   "outputs": [],
   "source": [
    "def plotBoundary(mytheta, myX, myy, mylambda=0.):\n",
    "    \"\"\"\n",
    "    Function to plot the decision boundary for arbitrary theta, X, y, lambda value\n",
    "    Inside of this function is feature mapping, and the minimization routine.\n",
    "    It works by making a grid of x1 (\"xvals\") and x2 (\"yvals\") points,\n",
    "    And for each, computing whether the hypothesis classifies that point as\n",
    "    True or False. Then, a contour is drawn with a built-in pyplot function.\n",
    "    \"\"\"\n",
    "    result= optimizeRegularizedTheta(mytheta,myX,myy,mylambda)\n",
    "    theta=np.array([result.x])\n",
    "    xvals = np.linspace(-1,1.5,50)\n",
    "    yvals = np.linspace(-1,1.5,50)\n",
    "    zvals = np.zeros((len(xvals),len(yvals)))\n",
    "    for i in range(len(xvals)):\n",
    "        for j in range(len(yvals)):\n",
    "            myfeaturesij = mapFeature(np.array([xvals[i]]),np.array([yvals[j]]))\n",
    "            zvals[i][j] = np.dot(theta,myfeaturesij.T)\n",
    "    zvals = zvals.transpose()\n",
    "\n",
    "    u, v = np.meshgrid( xvals, yvals )\n",
    "    mycontour = plt.contour( xvals, yvals, zvals, [0])\n",
    "    #Kind of a hacky way to display a text on top of the decision boundary\n",
    "    myfmt = { 0:'Lambda = %d'%mylambda}\n",
    "    plt.clabel(mycontour, inline=1, fontsize=15, fmt=myfmt)\n",
    "    plt.title(\"Decision Boundary\")"
   ]
  },
  {
   "cell_type": "code",
   "execution_count": 15,
   "metadata": {
    "colab": {
     "base_uri": "https://localhost:8080/",
     "height": 607
    },
    "executionInfo": {
     "elapsed": 7283,
     "status": "ok",
     "timestamp": 1667295195666,
     "user": {
      "displayName": "박관우 (16101478_관사)",
      "userId": "14832621603061077862"
     },
     "user_tz": -540
    },
    "id": "ytlmRXZFX7M_",
    "outputId": "ea3612f0-1cde-4172-b029-17a5c14f7c67",
    "scrolled": false
   },
   "outputs": [
    {
     "ename": "NameError",
     "evalue": "name 'theta' is not defined",
     "output_type": "error",
     "traceback": [
      "\u001b[1;31m---------------------------------------------------------------------------\u001b[0m",
      "\u001b[1;31mNameError\u001b[0m                                 Traceback (most recent call last)",
      "Cell \u001b[1;32mIn[15], line 6\u001b[0m\n\u001b[0;32m      4\u001b[0m plt\u001b[38;5;241m.\u001b[39msubplot(\u001b[38;5;241m221\u001b[39m)\n\u001b[0;32m      5\u001b[0m plotData()\n\u001b[1;32m----> 6\u001b[0m plotBoundary(theta,mappedX,y,\u001b[38;5;241m0.\u001b[39m)\n\u001b[0;32m      8\u001b[0m plt\u001b[38;5;241m.\u001b[39msubplot(\u001b[38;5;241m222\u001b[39m)\n\u001b[0;32m      9\u001b[0m plotData()\n",
      "\u001b[1;31mNameError\u001b[0m: name 'theta' is not defined"
     ]
    },
    {
     "data": {
      "image/png": "[encoded data removed]",
      "text/plain": [
       "<Figure size 1200x1000 with 1 Axes>"
      ]
     },
     "metadata": {},
     "output_type": "display_data"
    }
   ],
   "source": [
    "#Build a figure showing contours for various values of regularization parameter, lambda\n",
    "#It shows for lambda=0 we are overfitting, and for lambda=100 we are underfitting\n",
    "plt.figure(figsize=(12,10))\n",
    "plt.subplot(221)\n",
    "plotData()\n",
    "plotBoundary(theta,mappedX,y,0.)\n",
    "\n",
    "plt.subplot(222)\n",
    "plotData()\n",
    "plotBoundary(theta,mappedX,y,1.)\n",
    "\n",
    "plt.subplot(223)\n",
    "plotData()\n",
    "plotBoundary(theta,mappedX,y,10.)\n",
    "\n",
    "plt.subplot(224)\n",
    "plotData()\n",
    "plotBoundary(theta,mappedX,y,100.)"
   ]
  }
 ],
 "metadata": {
  "colab": {
   "collapsed_sections": [],
   "provenance": []
  },
  "kernelspec": {
   "display_name": "Python 3 (ipykernel)",
   "language": "python",
   "name": "python3"
  },
  "language_info": {
   "codemirror_mode": {
    "name": "ipython",
    "version": 3
   },
   "file_extension": ".py",
   "mimetype": "text/x-python",
   "name": "python",
   "nbconvert_exporter": "python",
   "pygments_lexer": "ipython3",
   "version": "3.11.5"
  }
 },
 "nbformat": 4,
 "nbformat_minor": 1
}
