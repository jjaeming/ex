{
 "cells": [
  {
   "cell_type": "code",
   "execution_count": 1,
   "id": "614b3083",
   "metadata": {},
   "outputs": [],
   "source": [
    "import numpy as np\n",
    "import matplotlib.pyplot as plt\n",
    "import scipy.io\n",
    "from scipy.stats import multivariate_normal"
   ]
  },
  {
   "cell_type": "code",
   "execution_count": 2,
   "id": "be150c36",
   "metadata": {},
   "outputs": [],
   "source": [
    "# load data \n",
    "datafile = 'dataCh4_7.mat'\n",
    "data = scipy.io.loadmat(datafile)"
   ]
  },
  {
   "cell_type": "markdown",
   "id": "4099b14e",
   "metadata": {},
   "source": [
    "# Train 데이터에 대한 정보"
   ]
  },
  {
   "cell_type": "code",
   "execution_count": 3,
   "id": "cf093ea6",
   "metadata": {},
   "outputs": [
    {
     "name": "stdout",
     "output_type": "stream",
     "text": [
      "Training Error Rate:\n",
      "[[0.36]\n",
      " [0.4 ]\n",
      " [0.3 ]]\n"
     ]
    }
   ],
   "source": [
    "# 클래스의 수\n",
    "K = 3\n",
    "\n",
    "# 클래스별 표본평균 계산\n",
    "M = np.vstack([np.mean(data[f'X{i + 1}'], axis=0) for i in range(K)])\n",
    "\n",
    "# 클래스별 표본공분산 계산\n",
    "S = np.zeros((2, 2, K))\n",
    "for i in range(K):\n",
    "    S[:, :, i] = np.cov(data[f'X{i + 1}'], rowvar=False)\n",
    "\n",
    "# 클래스별 표본공분산의 평균\n",
    "smean = np.mean(S, axis=2)\n",
    "\n",
    "# 학습 데이터 구성\n",
    "Dtrain = np.vstack([data[f'X{i + 1}'] for i in range(K)])\n",
    "\n",
    "# 오분류 데이터의 수를 셈\n",
    "Etrain = np.zeros((3, 1))\n",
    "\n",
    "# 각 클래스별 데이터의 수\n",
    "N = data['X1'].shape[0]\n",
    "\n",
    "# 각 클래스별로 분류 시작\n",
    "for k in range(1, K + 1):\n",
    "    X = Dtrain[(k - 1) * N:k * N, :]\n",
    "    d1 = np.zeros((3, 1))\n",
    "    d2 = np.zeros((3, 1))\n",
    "    d3 = np.zeros((3, 1))\n",
    "\n",
    "    # 각 데이터에 대해 분류 시작\n",
    "    for i in range(N):\n",
    "        # 세 개의 판별함수의 값 계산\n",
    "        # 단위 공분산행렬을 가정한 경우의 판별함수\n",
    "        d1[:, 0] = np.sum((X[i, :] - M) ** 2, axis=1)\n",
    "        # 모든 클래스가 동일한 공분산행렬을 가진다고 가정한 경우의 판별함수\n",
    "        d2[:, 0] = np.sum((X[i, :] - M) @ np.linalg.inv(smean) @ (X[i, :] - M).T, axis=1)\n",
    "        # 일반적인 공분산행렬을 가정한 경우의 판별함수\n",
    "        d3[:, 0] = np.sum((X[i, :] - M) @ np.linalg.inv(S[:, :, k - 1]) @ (X[i, :] - M).T, axis=1)\n",
    "\n",
    "        min1i = np.argmin(d1)  # 각 판별함수 값에 따라 분류\n",
    "        if min1i != k - 1:\n",
    "            Etrain[0, 0] += 1\n",
    "        min2i = np.argmin(d2)\n",
    "        if min2i != k - 1:\n",
    "            Etrain[1, 0] += 1\n",
    "        min3i = np.argmin(d3)\n",
    "        if min3i != k - 1:\n",
    "            Etrain[2, 0] += 1\n",
    "\n",
    "# 오분류율 출력 (학습오차)\n",
    "Error_rate = Etrain / N\n",
    "print(\"Training Error Rate:\", Error_rate,sep='\\n')"
   ]
  },
  {
   "cell_type": "markdown",
   "id": "59d56282",
   "metadata": {},
   "source": [
    "# Test 데이터에 대한 정보"
   ]
  },
  {
   "cell_type": "code",
   "execution_count": 4,
   "id": "b5154aa3",
   "metadata": {},
   "outputs": [
    {
     "name": "stdout",
     "output_type": "stream",
     "text": [
      "Test Error Rate:\n",
      "[[0.36902]\n",
      " [0.36269]\n",
      " [0.25136]]\n"
     ]
    }
   ],
   "source": [
    "# 클래스의 수\n",
    "K = 3\n",
    "\n",
    "# 클래스별 표본평균 계산\n",
    "M = np.vstack([np.mean(data[f'X{i + 1}_test'], axis=0) for i in range(K)])\n",
    "\n",
    "# 클래스별 표본공분산 계산\n",
    "S = np.zeros((2, 2, K))\n",
    "for i in range(K):\n",
    "    S[:, :, i] = np.cov(data[f'X{i + 1}_test'], rowvar=False)\n",
    "\n",
    "# 클래스별 표본공분산의 평균\n",
    "smean = np.mean(S, axis=2)\n",
    "\n",
    "# 학습 데이터 구성\n",
    "Dtrain = np.vstack([data[f'X{i + 1}_test'] for i in range(K)])\n",
    "\n",
    "# 오분류 데이터의 수를 셈\n",
    "Etrain = np.zeros((3, 1))\n",
    "\n",
    "# 각 클래스별 데이터의 수\n",
    "N = data['X1_test'].shape[0]\n",
    "\n",
    "# 각 클래스별로 분류 시작\n",
    "for k in range(1, K + 1):\n",
    "    X = Dtrain[(k - 1) * N:k * N, :]\n",
    "    d1 = np.zeros((3, 1))\n",
    "    d2 = np.zeros((3, 1))\n",
    "    d3 = np.zeros((3, 1))\n",
    "\n",
    "    # 각 데이터에 대해 분류 시작\n",
    "    for i in range(N):\n",
    "        # 세 개의 판별함수의 값 계산\n",
    "        # 단위 공분산행렬을 가정한 경우의 판별함수\n",
    "        d1[:, 0] = np.sum((X[i, :] - M) ** 2, axis=1)\n",
    "        # 모든 클래스가 동일한 공분산행렬을 가진다고 가정한 경우의 판별함수\n",
    "        d2[:, 0] = np.sum((X[i, :] - M) @ np.linalg.inv(smean) @ (X[i, :] - M).T, axis=1)\n",
    "        # 일반적인 공분산행렬을 가정한 경우의 판별함수\n",
    "        d3[:, 0] = np.sum((X[i, :] - M) @ np.linalg.inv(S[:, :, k - 1]) @ (X[i, :] - M).T, axis=1)\n",
    "\n",
    "        min1i = np.argmin(d1)  # 각 판별함수 값에 따라 분류\n",
    "        if min1i != k - 1:\n",
    "            Etrain[0, 0] += 1\n",
    "        min2i = np.argmin(d2)\n",
    "        if min2i != k - 1:\n",
    "            Etrain[1, 0] += 1\n",
    "        min3i = np.argmin(d3)\n",
    "        if min3i != k - 1:\n",
    "            Etrain[2, 0] += 1\n",
    "\n",
    "# 오분류율 출력 (학습오차)\n",
    "Error_rate = Etrain / N\n",
    "print(\"Test Error Rate:\", Error_rate,sep='\\n')"
   ]
  },
  {
   "cell_type": "code",
   "execution_count": null,
   "id": "70d6cebc",
   "metadata": {},
   "outputs": [],
   "source": []
  }
 ],
 "metadata": {
  "kernelspec": {
   "display_name": "Python 3 (ipykernel)",
   "language": "python",
   "name": "python3"
  },
  "language_info": {
   "codemirror_mode": {
    "name": "ipython",
    "version": 3
   },
   "file_extension": ".py",
   "mimetype": "text/x-python",
   "name": "python",
   "nbconvert_exporter": "python",
   "pygments_lexer": "ipython3",
   "version": "3.9.18"
  }
 },
 "nbformat": 4,
 "nbformat_minor": 5
}
